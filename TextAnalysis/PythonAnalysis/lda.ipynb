{
    "cells": [
        {
            "cell_type": "code",
            "execution_count": 2,
            "source": [
                "import pandas as pd\n",
                "import os\n",
                "# Read data into papers\n",
                "papers = pd.read_csv('../Experiments/metadata/songsMetadata.csv')\n",
                "# Print head\n",
                "papers.head()"
            ],
            "outputs": [
                {
                    "output_type": "execute_result",
                    "data": {
                        "text/plain": [
                            "   artistId geniusName songShortcut  \\\n",
                            "0     11774      20Syl       20SYL1   \n",
                            "1     11774      20Syl       20SYL2   \n",
                            "2     11774      20Syl       20SYL3   \n",
                            "3     11774      20Syl       20SYL4   \n",
                            "4     11774      20Syl       20SYL6   \n",
                            "\n",
                            "                                               title   songId  \\\n",
                            "0                 100% Autoproduction by Hocus Pocus   160272   \n",
                            "1                 100 Grammes de Peur by Hocus Pocus   108615   \n",
                            "2                    10 que tu penses by Hocus Pocus  2319837   \n",
                            "3  10 YRS by End of the Weak France (Ft. Artik (Q...   438039   \n",
                            "4                          73 Touches by Hocus Pocus    61676   \n",
                            "\n",
                            "                                                 url  \\\n",
                            "0  https://genius.com/Hocus-pocus-100-autoproduct...   \n",
                            "1  https://genius.com/Hocus-pocus-100-grammes-de-...   \n",
                            "2  https://genius.com/Hocus-pocus-10-que-tu-pense...   \n",
                            "3  https://genius.com/End-of-the-weak-france-10-y...   \n",
                            "4   https://genius.com/Hocus-pocus-73-touches-lyrics   \n",
                            "\n",
                            "                                              lyrics        releaseDate  \n",
                            "0  \\n          \\n            \\n            [Scrat...          000000000  \n",
                            "1  \\n          \\n            \\n            On la ...          000000000  \n",
                            "2  \\n          \\n            \\n            [Intro...    January 1, 1998  \n",
                            "3  \\n          \\n            \\n            [Artik...  February 26, 2014  \n",
                            "4  \\n          \\n            \\n            [Coupl...          000000000  "
                        ],
                        "text/html": [
                            "<div>\n",
                            "<style scoped>\n",
                            "    .dataframe tbody tr th:only-of-type {\n",
                            "        vertical-align: middle;\n",
                            "    }\n",
                            "\n",
                            "    .dataframe tbody tr th {\n",
                            "        vertical-align: top;\n",
                            "    }\n",
                            "\n",
                            "    .dataframe thead th {\n",
                            "        text-align: right;\n",
                            "    }\n",
                            "</style>\n",
                            "<table border=\"1\" class=\"dataframe\">\n",
                            "  <thead>\n",
                            "    <tr style=\"text-align: right;\">\n",
                            "      <th></th>\n",
                            "      <th>artistId</th>\n",
                            "      <th>geniusName</th>\n",
                            "      <th>songShortcut</th>\n",
                            "      <th>title</th>\n",
                            "      <th>songId</th>\n",
                            "      <th>url</th>\n",
                            "      <th>lyrics</th>\n",
                            "      <th>releaseDate</th>\n",
                            "    </tr>\n",
                            "  </thead>\n",
                            "  <tbody>\n",
                            "    <tr>\n",
                            "      <th>0</th>\n",
                            "      <td>11774</td>\n",
                            "      <td>20Syl</td>\n",
                            "      <td>20SYL1</td>\n",
                            "      <td>100% Autoproduction by Hocus Pocus</td>\n",
                            "      <td>160272</td>\n",
                            "      <td>https://genius.com/Hocus-pocus-100-autoproduct...</td>\n",
                            "      <td>\\n          \\n            \\n            [Scrat...</td>\n",
                            "      <td>000000000</td>\n",
                            "    </tr>\n",
                            "    <tr>\n",
                            "      <th>1</th>\n",
                            "      <td>11774</td>\n",
                            "      <td>20Syl</td>\n",
                            "      <td>20SYL2</td>\n",
                            "      <td>100 Grammes de Peur by Hocus Pocus</td>\n",
                            "      <td>108615</td>\n",
                            "      <td>https://genius.com/Hocus-pocus-100-grammes-de-...</td>\n",
                            "      <td>\\n          \\n            \\n            On la ...</td>\n",
                            "      <td>000000000</td>\n",
                            "    </tr>\n",
                            "    <tr>\n",
                            "      <th>2</th>\n",
                            "      <td>11774</td>\n",
                            "      <td>20Syl</td>\n",
                            "      <td>20SYL3</td>\n",
                            "      <td>10 que tu penses by Hocus Pocus</td>\n",
                            "      <td>2319837</td>\n",
                            "      <td>https://genius.com/Hocus-pocus-10-que-tu-pense...</td>\n",
                            "      <td>\\n          \\n            \\n            [Intro...</td>\n",
                            "      <td>January 1, 1998</td>\n",
                            "    </tr>\n",
                            "    <tr>\n",
                            "      <th>3</th>\n",
                            "      <td>11774</td>\n",
                            "      <td>20Syl</td>\n",
                            "      <td>20SYL4</td>\n",
                            "      <td>10 YRS by End of the Weak France (Ft. Artik (Q...</td>\n",
                            "      <td>438039</td>\n",
                            "      <td>https://genius.com/End-of-the-weak-france-10-y...</td>\n",
                            "      <td>\\n          \\n            \\n            [Artik...</td>\n",
                            "      <td>February 26, 2014</td>\n",
                            "    </tr>\n",
                            "    <tr>\n",
                            "      <th>4</th>\n",
                            "      <td>11774</td>\n",
                            "      <td>20Syl</td>\n",
                            "      <td>20SYL6</td>\n",
                            "      <td>73 Touches by Hocus Pocus</td>\n",
                            "      <td>61676</td>\n",
                            "      <td>https://genius.com/Hocus-pocus-73-touches-lyrics</td>\n",
                            "      <td>\\n          \\n            \\n            [Coupl...</td>\n",
                            "      <td>000000000</td>\n",
                            "    </tr>\n",
                            "  </tbody>\n",
                            "</table>\n",
                            "</div>"
                        ]
                    },
                    "metadata": {},
                    "execution_count": 2
                }
            ],
            "metadata": {}
        },
        {
            "cell_type": "code",
            "execution_count": 3,
            "source": [
                "# Remove the columns\n",
                "papers = papers.drop(columns=['artistId', 'geniusName', 'songShortcut', \n",
                "                              'title', 'songId', 'url', 'releaseDate'], axis=1)\n",
                "                              \n",
                "# Print out the first rows of papers\n",
                "papers.head()"
            ],
            "outputs": [
                {
                    "output_type": "execute_result",
                    "data": {
                        "text/plain": [
                            "                                              lyrics\n",
                            "0  \\n          \\n            \\n            [Scrat...\n",
                            "1  \\n          \\n            \\n            On la ...\n",
                            "2  \\n          \\n            \\n            [Intro...\n",
                            "3  \\n          \\n            \\n            [Artik...\n",
                            "4  \\n          \\n            \\n            [Coupl..."
                        ],
                        "text/html": [
                            "<div>\n",
                            "<style scoped>\n",
                            "    .dataframe tbody tr th:only-of-type {\n",
                            "        vertical-align: middle;\n",
                            "    }\n",
                            "\n",
                            "    .dataframe tbody tr th {\n",
                            "        vertical-align: top;\n",
                            "    }\n",
                            "\n",
                            "    .dataframe thead th {\n",
                            "        text-align: right;\n",
                            "    }\n",
                            "</style>\n",
                            "<table border=\"1\" class=\"dataframe\">\n",
                            "  <thead>\n",
                            "    <tr style=\"text-align: right;\">\n",
                            "      <th></th>\n",
                            "      <th>lyrics</th>\n",
                            "    </tr>\n",
                            "  </thead>\n",
                            "  <tbody>\n",
                            "    <tr>\n",
                            "      <th>0</th>\n",
                            "      <td>\\n          \\n            \\n            [Scrat...</td>\n",
                            "    </tr>\n",
                            "    <tr>\n",
                            "      <th>1</th>\n",
                            "      <td>\\n          \\n            \\n            On la ...</td>\n",
                            "    </tr>\n",
                            "    <tr>\n",
                            "      <th>2</th>\n",
                            "      <td>\\n          \\n            \\n            [Intro...</td>\n",
                            "    </tr>\n",
                            "    <tr>\n",
                            "      <th>3</th>\n",
                            "      <td>\\n          \\n            \\n            [Artik...</td>\n",
                            "    </tr>\n",
                            "    <tr>\n",
                            "      <th>4</th>\n",
                            "      <td>\\n          \\n            \\n            [Coupl...</td>\n",
                            "    </tr>\n",
                            "  </tbody>\n",
                            "</table>\n",
                            "</div>"
                        ]
                    },
                    "metadata": {},
                    "execution_count": 3
                }
            ],
            "metadata": {}
        },
        {
            "cell_type": "code",
            "execution_count": 5,
            "source": [
                "# Load the regular expression library\n",
                "import re\n",
                "# Remove punctuation\n",
                "papers['paper_text_processed'] = papers['lyrics'].map(lambda x: re.sub('[,\\.!?]', '', x))\n",
                "# Convert the titles to lowercase\n",
                "papers['paper_text_processed'] = papers['paper_text_processed'].map(lambda x: x.lower())\n",
                "# Print out the first rows of papers\n",
                "papers['paper_text_processed'].head()"
            ],
            "outputs": [
                {
                    "output_type": "execute_result",
                    "data": {
                        "text/plain": [
                            "0    \\n          \\n            \\n            [scrat...\n",
                            "1    \\n          \\n            \\n            on la ...\n",
                            "2    \\n          \\n            \\n            [intro...\n",
                            "3    \\n          \\n            \\n            [artik...\n",
                            "4    \\n          \\n            \\n            [coupl...\n",
                            "Name: paper_text_processed, dtype: object"
                        ]
                    },
                    "metadata": {},
                    "execution_count": 5
                }
            ],
            "metadata": {}
        },
        {
            "cell_type": "code",
            "execution_count": 9,
            "source": [
                "import gensim\n",
                "from gensim.utils import simple_preprocess\n",
                "def sent_to_words(sentences):\n",
                "    for sentence in sentences:\n",
                "        yield(gensim.utils.simple_preprocess(str(sentence), deacc=True))  # deacc=True removes punctuations\n",
                "data = papers.paper_text_processed.values.tolist()\n",
                "data_words = list(sent_to_words(data))\n",
                "print(data_words[:1][0][:30])"
            ],
            "outputs": [
                {
                    "output_type": "stream",
                    "name": "stdout",
                    "text": [
                        "['scratch', 'dj', 'greem', 'ca', 'va', 'faire', 'un', 'sacre', 'boucan', 'refrain', 'cambia', 'syl', 'autoproduction', 'pour', 'un', 'son', 'pur', 'sang', 'empire', 'sans', 'empereur', 'ca', 'va', 'faire', 'un', 'sacre', 'boucan', 'couplet', 'cambia', 'cigare']\n"
                    ]
                }
            ],
            "metadata": {}
        }
    ],
    "metadata": {
        "orig_nbformat": 4,
        "language_info": {
            "name": "python",
            "version": "3.6.4",
            "mimetype": "text/x-python",
            "codemirror_mode": {
                "name": "ipython",
                "version": 3
            },
            "pygments_lexer": "ipython3",
            "nbconvert_exporter": "python",
            "file_extension": ".py"
        },
        "kernelspec": {
            "name": "python3",
            "display_name": "Python 3.6.4 64-bit ('3.6.4': pyenv)"
        },
        "interpreter": {
            "hash": "df458b5b017d13255ec6db2b9c4c6a8e38cf4f5c37bd6f0a06e99f86984b0a36"
        }
    },
    "nbformat": 4,
    "nbformat_minor": 2
}